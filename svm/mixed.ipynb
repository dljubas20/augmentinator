{
 "cells": [
  {
   "cell_type": "markdown",
   "metadata": {},
   "source": [
    "## Imports"
   ]
  },
  {
   "cell_type": "code",
   "execution_count": 4,
   "metadata": {},
   "outputs": [],
   "source": [
    "import os\n",
    "import albumentations as A\n",
    "import cv2"
   ]
  },
  {
   "cell_type": "markdown",
   "metadata": {},
   "source": [
    "## Datasets\n",
    "The `dataset` folder represents a fraction of the LFW dataset and will contain images used for training the model. The `labels` variable contains all the people (subfolders) in the dataset. The `dataset-mixed` folder will contain original images plus the images with mixed augmentation properties, after augmentation is done.\n",
    "\n",
    "If the `dataset-mixed` folder does not exist, it will be created."
   ]
  },
  {
   "cell_type": "code",
   "execution_count": 5,
   "metadata": {},
   "outputs": [],
   "source": [
    "path_dataset = \"dataset/\"\n",
    "path_dataset_mixed = \"dataset-mixed/\"\n",
    "\n",
    "if not os.path.exists(path_dataset_mixed):\n",
    "    os.mkdir(path_dataset_mixed)\n",
    "labels = os.listdir(path_dataset)"
   ]
  },
  {
   "cell_type": "markdown",
   "metadata": {},
   "source": [
    "## Mirroring process"
   ]
  },
  {
   "cell_type": "code",
   "execution_count": 6,
   "metadata": {},
   "outputs": [],
   "source": [
    "for i, label in enumerate(labels):\n",
    "    img_filenames = os.listdir(f\"{path_dataset}{label}/\")\n",
    "\n",
    "    if not os.path.exists(f\"{path_dataset_mixed}/{label}\"):\n",
    "        os.mkdir(f\"{path_dataset_mixed}/{label}\")\n",
    "\n",
    "    for filename in img_filenames:\n",
    "        filepath = f\"{path_dataset}{label}/{filename}\"\n",
    "        \n",
    "        image = cv2.imread(filepath)\n",
    "\n",
    "        cv2.imwrite(f\"{path_dataset_mixed}{label}/{filename}\", image)\n",
    "\n",
    "        transform1 = A.Compose([\n",
    "            A.HorizontalFlip(always_apply=True),\n",
    "            A.RGBShift(always_apply=True),\n",
    "            A.RandomBrightnessContrast(always_apply=True),\n",
    "        ])\n",
    "        augmented_image1 = transform1(image=image)['image']\n",
    "\n",
    "        cv2.imwrite(f\"{path_dataset_mixed}{label}/mix1-{filename}\", augmented_image1)\n",
    "\n",
    "        transform2 = A.Compose([\n",
    "            A.ShiftScaleRotate(always_apply=True),\n",
    "            A.MotionBlur(always_apply=True)\n",
    "        ])\n",
    "        augmented_image2 = transform2(image=image)['image']\n",
    "\n",
    "        cv2.imwrite(f\"{path_dataset_mixed}{label}/mix2-{filename}\", augmented_image2)"
   ]
  }
 ],
 "metadata": {
  "kernelspec": {
   "display_name": "Python 3",
   "language": "python",
   "name": "python3"
  },
  "language_info": {
   "codemirror_mode": {
    "name": "ipython",
    "version": 3
   },
   "file_extension": ".py",
   "mimetype": "text/x-python",
   "name": "python",
   "nbconvert_exporter": "python",
   "pygments_lexer": "ipython3",
   "version": "3.10.12"
  }
 },
 "nbformat": 4,
 "nbformat_minor": 2
}

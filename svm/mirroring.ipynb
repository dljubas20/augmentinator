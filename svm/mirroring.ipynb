{
 "cells": [
  {
   "cell_type": "markdown",
   "metadata": {},
   "source": [
    "## Imports"
   ]
  },
  {
   "cell_type": "code",
   "execution_count": 4,
   "metadata": {},
   "outputs": [],
   "source": [
    "import os\n",
    "import albumentations as A\n",
    "import cv2"
   ]
  },
  {
   "cell_type": "markdown",
   "metadata": {},
   "source": [
    "## Datasets\n",
    "The `dataset` folder represents a fraction of the LFW dataset and will contain images used for training the model. The `labels` variable contains all the people (subfolders) in the dataset. The `dataset-mirror` folder will contain original images plus the mirrored images, after augmentation is done.\n",
    "\n",
    "If the `dataset-mirror` folder does not exist, it will be created."
   ]
  },
  {
   "cell_type": "code",
   "execution_count": 5,
   "metadata": {},
   "outputs": [],
   "source": [
    "path_dataset = \"dataset/\"\n",
    "path_dataset_mirrored = \"dataset-mirror/\"\n",
    "\n",
    "if not os.path.exists(path_dataset_mirrored):\n",
    "    os.mkdir(path_dataset_mirrored)\n",
    "labels = os.listdir(path_dataset)"
   ]
  },
  {
   "cell_type": "markdown",
   "metadata": {},
   "source": [
    "## Augmentation process"
   ]
  },
  {
   "cell_type": "code",
   "execution_count": 6,
   "metadata": {},
   "outputs": [],
   "source": [
    "for i, label in enumerate(labels):\n",
    "    img_filenames = os.listdir(f\"{path_dataset}{label}/\")\n",
    "\n",
    "    if not os.path.exists(f\"{path_dataset_mirrored}/{label}\"):\n",
    "        os.mkdir(f\"{path_dataset_mirrored}/{label}\")\n",
    "\n",
    "    for filename in img_filenames:\n",
    "        filepath = f\"{path_dataset}{label}/{filename}\"\n",
    "        \n",
    "        image = cv2.imread(filepath)\n",
    "\n",
    "        cv2.imwrite(f\"{path_dataset_mirrored}{label}/{filename}\", image)\n",
    "\n",
    "        transform = A.Compose([A.HorizontalFlip(p=1)])\n",
    "        augmented_image = transform(image=image)[\"image\"]\n",
    "\n",
    "        cv2.imwrite(f\"{path_dataset_mirrored}{label}/mir-{filename}\", augmented_image)"
   ]
  }
 ],
 "metadata": {
  "kernelspec": {
   "display_name": "Python 3",
   "language": "python",
   "name": "python3"
  },
  "language_info": {
   "codemirror_mode": {
    "name": "ipython",
    "version": 3
   },
   "file_extension": ".py",
   "mimetype": "text/x-python",
   "name": "python",
   "nbconvert_exporter": "python",
   "pygments_lexer": "ipython3",
   "version": "3.10.12"
  }
 },
 "nbformat": 4,
 "nbformat_minor": 2
}
